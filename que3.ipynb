{
 "cells": [
  {
   "cell_type": "code",
   "execution_count": 1,
   "id": "af4feb54",
   "metadata": {},
   "outputs": [
    {
     "name": "stdout",
     "output_type": "stream",
     "text": [
      "Requirement already satisfied: pygame in c:\\users\\hp\\anaconda3\\lib\\site-packages (2.6.1)Note: you may need to restart the kernel to use updated packages.\n",
      "\n"
     ]
    }
   ],
   "source": [
    "%pip install pygame"
   ]
  },
  {
   "cell_type": "code",
   "execution_count": 2,
   "id": "0a7931b1",
   "metadata": {},
   "outputs": [
    {
     "name": "stdout",
     "output_type": "stream",
     "text": [
      "Requirement already satisfied: PyOpenGL in c:\\users\\hp\\anaconda3\\lib\\site-packages (3.1.9)\n",
      "Requirement already satisfied: PyOpenGL_accelerate in c:\\users\\hp\\anaconda3\\lib\\site-packages (3.1.9)\n",
      "Note: you may need to restart the kernel to use updated packages.\n"
     ]
    }
   ],
   "source": [
    "%pip install PyOpenGL PyOpenGL_accelerate"
   ]
  },
  {
   "cell_type": "code",
   "execution_count": 3,
   "id": "fba01304",
   "metadata": {},
   "outputs": [
    {
     "name": "stdout",
     "output_type": "stream",
     "text": [
      "pygame 2.6.1 (SDL 2.28.4, Python 3.11.4)\n",
      "Hello from the pygame community. https://www.pygame.org/contribute.html\n"
     ]
    }
   ],
   "source": [
    "import pygame\n",
    "from pygame.locals import *\n",
    "from OpenGL.GL import *\n",
    "from OpenGL.GL.shaders import compileProgram, compileShader\n",
    "import numpy as np\n",
    "import random\n",
    "import time\n"
   ]
  },
  {
   "cell_type": "code",
   "execution_count": 4,
   "id": "df469781",
   "metadata": {},
   "outputs": [],
   "source": [
    "# Initialize the screen\n",
    "pygame.init()\n",
    "screen = pygame.display.set_mode((800, 600), DOUBLEBUF | OPENGL)\n",
    "pygame.display.set_caption(\"Fireworks Particle System\")\n",
    "clock = pygame.time.Clock()"
   ]
  },
  {
   "cell_type": "code",
   "execution_count": 5,
   "id": "aa9bc4f8",
   "metadata": {},
   "outputs": [],
   "source": [
    "# Vertex Shader\n",
    "VERTEX_SHADER = \"\"\"\n",
    "#version 330 core\n",
    "layout(location = 0) in vec2 position;\n",
    "layout(location = 1) in vec4 color;\n",
    "out vec4 vColor;\n",
    "void main() {\n",
    "    gl_Position = vec4(position, 0.0, 1.0);\n",
    "    gl_PointSize = 10.0;\n",
    "    vColor = color;\n",
    "}\n",
    "\"\"\"\n",
    "\n",
    "# Fragment Shader\n",
    "FRAGMENT_SHADER = \"\"\"\n",
    "#version 330 core\n",
    "in vec4 vColor;\n",
    "out vec4 FragColor;\n",
    "void main() {\n",
    "    float dist = length(gl_PointCoord - vec2(0.5));\n",
    "    if (dist > 0.5) discard;\n",
    "    FragColor = vColor;\n",
    "}\n",
    "\"\"\""
   ]
  },
  {
   "cell_type": "code",
   "execution_count": 6,
   "id": "58c45a06",
   "metadata": {},
   "outputs": [],
   "source": [
    "# Initialize Pygame and OpenGL\n",
    "pygame.init()\n",
    "screen = pygame.display.set_mode((800, 600), DOUBLEBUF | OPENGL)\n",
    "pygame.display.set_caption(\"Animated Particle System\")\n"
   ]
  },
  {
   "cell_type": "code",
   "execution_count": 7,
   "id": "8e068f58",
   "metadata": {},
   "outputs": [],
   "source": [
    "glEnable(GL_BLEND)\n",
    "glBlendFunc(GL_SRC_ALPHA, GL_ONE_MINUS_SRC_ALPHA)\n",
    "\n",
    "shader = compileProgram(\n",
    "    compileShader(VERTEX_SHADER, GL_VERTEX_SHADER),\n",
    "    compileShader(FRAGMENT_SHADER, GL_FRAGMENT_SHADER)\n",
    ")"
   ]
  },
  {
   "cell_type": "code",
   "execution_count": 8,
   "id": "3888f9a0",
   "metadata": {},
   "outputs": [],
   "source": [
    "NUM_PARTICLES = 200\n",
    "positions = np.zeros((NUM_PARTICLES, 2), dtype=np.float32)\n",
    "velocities = np.random.uniform(-0.002, 0.002, (NUM_PARTICLES, 2)).astype(np.float32)\n",
    "colors = np.random.rand(NUM_PARTICLES, 4).astype(np.float32)\n",
    "colors[:, 3] = 1.0  # Full alpha"
   ]
  },
  {
   "cell_type": "code",
   "execution_count": 9,
   "id": "26cf7125",
   "metadata": {},
   "outputs": [],
   "source": [
    "vao = glGenVertexArrays(1)\n",
    "vbo_pos = glGenBuffers(1)\n",
    "vbo_col = glGenBuffers(1)\n",
    "\n",
    "glBindVertexArray(vao)"
   ]
  },
  {
   "cell_type": "code",
   "execution_count": 10,
   "id": "0e3a336c",
   "metadata": {},
   "outputs": [],
   "source": [
    "# Position buffer\n",
    "glBindBuffer(GL_ARRAY_BUFFER, vbo_pos)\n",
    "glBufferData(GL_ARRAY_BUFFER, positions.nbytes, positions, GL_DYNAMIC_DRAW)\n",
    "glEnableVertexAttribArray(0)\n",
    "glVertexAttribPointer(0, 2, GL_FLOAT, GL_FALSE, 0, None)\n"
   ]
  },
  {
   "cell_type": "code",
   "execution_count": 11,
   "id": "7f4e9dbc",
   "metadata": {},
   "outputs": [],
   "source": [
    "# Color buffer\n",
    "glBindBuffer(GL_ARRAY_BUFFER, vbo_col)\n",
    "glBufferData(GL_ARRAY_BUFFER, colors.nbytes, colors, GL_STATIC_DRAW)\n",
    "glEnableVertexAttribArray(1)\n",
    "glVertexAttribPointer(1, 4, GL_FLOAT, GL_FALSE, 0, None)\n",
    "\n",
    "glBindBuffer(GL_ARRAY_BUFFER, 0)\n",
    "glBindVertexArray(0)"
   ]
  },
  {
   "cell_type": "code",
   "execution_count": 12,
   "id": "33471b7a",
   "metadata": {},
   "outputs": [],
   "source": [
    "clock = pygame.time.Clock()\n",
    "running = True\n",
    "\n",
    "while running:\n",
    "    for event in pygame.event.get():\n",
    "        if event.type == QUIT:\n",
    "            running = False\n",
    "\n",
    "    positions += velocities\n",
    "\n",
    "    glBindBuffer(GL_ARRAY_BUFFER, vbo_pos)\n",
    "    glBufferSubData(GL_ARRAY_BUFFER, 0, positions.nbytes, positions)\n",
    "\n",
    "    glClearColor(0, 0, 0, 1)\n",
    "    glClear(GL_COLOR_BUFFER_BIT)\n",
    "\n",
    "    glUseProgram(shader)\n",
    "    glBindVertexArray(vao)\n",
    "    glDrawArrays(GL_POINTS, 0, NUM_PARTICLES)\n",
    "    glBindVertexArray(0)\n",
    "    glUseProgram(0)\n",
    "\n",
    "    pygame.display.flip()\n",
    "    clock.tick(60)\n",
    "\n",
    "pygame.quit()"
   ]
  }
 ],
 "metadata": {
  "kernelspec": {
   "display_name": "base",
   "language": "python",
   "name": "python3"
  },
  "language_info": {
   "codemirror_mode": {
    "name": "ipython",
    "version": 3
   },
   "file_extension": ".py",
   "mimetype": "text/x-python",
   "name": "python",
   "nbconvert_exporter": "python",
   "pygments_lexer": "ipython3",
   "version": "3.11.4"
  }
 },
 "nbformat": 4,
 "nbformat_minor": 5
}
